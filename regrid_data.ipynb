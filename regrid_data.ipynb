{
 "cells": [
  {
   "cell_type": "code",
   "execution_count": 1,
   "id": "dd19aca1-1297-429a-ae1e-5bae8f230f71",
   "metadata": {},
   "outputs": [],
   "source": [
    "import numpy as np\n",
    "import astropy.io.fits as pyfits\n",
    "from reproject import reproject_interp"
   ]
  },
  {
   "cell_type": "code",
   "execution_count": 2,
   "id": "c3530ecc-fde1-4e3c-bc20-71acead819fd",
   "metadata": {},
   "outputs": [],
   "source": [
    "#### User input ####\n",
    "## path to the data of interest\n",
    "region_name = \"W40\"\n",
    "data_path = \"../data_CIIcorr/data_FEEDBACK/{region}/\".format(region = region_name)\n",
    "\n",
    "## first 5: Herschel, then 5: Spitzer, last: upGREAT file\n",
    "name_list = [\"Herschel_PACS_160_36_8\", \n",
    "             \"Herschel_PACS_70_36_8\",\n",
    "             \"Herschel_SPIRE_250_36_8\",\n",
    "             \"Herschel_SPIRE_350_36_8\",\n",
    "             \"Herschel_SPIRE_500_36_8\",\n",
    "             \"Spitzer_IRAC_3p6_36_8\",\n",
    "             \"Spitzer_IRAC_4p5_36_8\",\n",
    "             \"Spitzer_IRAC_5p8_36_8\",\n",
    "             \"Spitzer_IRAC_8_36_8\",\n",
    "             \"upGREAT_CII_36_8_integrated\"\n",
    "            ]\n",
    "\n",
    "## target grid resolution in arcseconds\n",
    "target_grid = 15."
   ]
  },
  {
   "cell_type": "code",
   "execution_count": 3,
   "id": "a3223144-8c15-4d10-a5e3-04f7d64db21c",
   "metadata": {},
   "outputs": [
    {
     "name": "stdout",
     "output_type": "stream",
     "text": [
      "Herschel_PACS_160_36_15\n",
      "Herschel_PACS_70_36_15\n",
      "Herschel_SPIRE_250_36_15\n",
      "Herschel_SPIRE_350_36_15\n",
      "Herschel_SPIRE_500_36_15\n",
      "Spitzer_IRAC_3p6_36_15\n",
      "Spitzer_IRAC_4p5_36_15\n",
      "Spitzer_IRAC_5p8_36_15\n",
      "Spitzer_IRAC_8_36_15\n",
      "upGREAT_CII_36_15_integrated\n"
     ]
    },
    {
     "name": "stderr",
     "output_type": "stream",
     "text": [
      "WARNING: FITSFixedWarning: 'celfix' made the change 'Success'. [astropy.wcs.wcs]\n"
     ]
    }
   ],
   "source": [
    "for name in name_list:\n",
    "    hdu = pyfits.open(\"{p}{reg}_{f}.fits\".format(p = data_path, reg = region_name, f = name))\n",
    "    header = hdu[0].header\n",
    "    \n",
    "    ## print warning if the image is rotated\n",
    "    if(header['CROTA1'] != 0. or header['CROTA2'] != 0.):\n",
    "        print('The transformation below will not be correct because there is a rotation in the image')\n",
    "    \n",
    "    ## calculate the ratio of new pixel resolution over old\n",
    "    r_ra, r_dec = abs(target_grid/3600./header['CDELT1']), abs(target_grid/3600./header['CDELT2'])\n",
    "    \n",
    "    ## create the target header\n",
    "    t_header = header.copy()\n",
    "    \n",
    "    ## update values in the target header\n",
    "    t_header['CDELT1'], t_header['CDELT2'] = header['CDELT1']*r_ra, header['CDELT2']*r_dec\n",
    "    t_header['NAXIS1'], t_header['NAXIS2'] = int(header['NAXIS1']/r_ra + 0.5), int(header['NAXIS2']/r_dec + 0.5)\n",
    "    t_header['CRPIX1'], t_header['CRPIX2'] = header['CRPIX1']/r_ra, header['CRPIX2']/r_dec\n",
    "    \n",
    "    ## reproject the fits file\n",
    "    array, footprint = reproject_interp(hdu, t_header)\n",
    "    \n",
    "    ## update file name\n",
    "    new_name = name.split(\"_\")\n",
    "    if new_name[-1] == \"integrated\":\n",
    "        new_name[-2] = str(int(target_grid))\n",
    "    else:\n",
    "        new_name[-1] = str(int(target_grid))\n",
    "    new_name = \"_\".join(new_name)\n",
    "    print(new_name)\n",
    "    \n",
    "    ## write the fits file\n",
    "    new_hdu = pyfits.PrimaryHDU(array, t_header)\n",
    "    new_hdu.writeto(\"{p}{reg}_{f}.fits\".format(p = data_path, reg = region_name, f = new_name))\n",
    "    "
   ]
  },
  {
   "cell_type": "code",
   "execution_count": null,
   "id": "1d58c36c-3287-474d-b5cb-9f97110c2abe",
   "metadata": {},
   "outputs": [],
   "source": []
  }
 ],
 "metadata": {
  "kernelspec": {
   "display_name": "Python 3 (ipykernel)",
   "language": "python",
   "name": "python3"
  },
  "language_info": {
   "codemirror_mode": {
    "name": "ipython",
    "version": 3
   },
   "file_extension": ".py",
   "mimetype": "text/x-python",
   "name": "python",
   "nbconvert_exporter": "python",
   "pygments_lexer": "ipython3",
   "version": "3.11.4"
  }
 },
 "nbformat": 4,
 "nbformat_minor": 5
}
