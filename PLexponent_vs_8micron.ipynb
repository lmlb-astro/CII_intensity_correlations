{
 "cells": [
  {
   "cell_type": "markdown",
   "id": "ba0f7c42-ef67-40b7-8d65-d6afc6e6e31a",
   "metadata": {},
   "source": [
    "# Study of the powerlaw exponent as a function of 8 micron intensity\n"
   ]
  },
  {
   "cell_type": "code",
   "execution_count": null,
   "id": "bff2646c-b861-433a-b8b7-ee7663a42b5d",
   "metadata": {},
   "outputs": [],
   "source": [
    "import numpy as np\n",
    "import astropy.io.fits as pyfits\n",
    "import pandas as pd\n",
    "\n",
    "import matplotlib.pyplot as plt\n",
    "\n",
    "from scipy.stats import pearsonr"
   ]
  },
  {
   "cell_type": "code",
   "execution_count": null,
   "id": "3327aae4-2cb4-4e06-a68b-914991b403c6",
   "metadata": {},
   "outputs": [],
   "source": [
    "#### User input ####\n",
    "\n",
    "## information to fetch the necessary data\n",
    "dir_path = \"../data/data_FEEDBACK/\" ## path to the data directory\n",
    "name_CII = \"_CII_final_res20_grid8_0p5_clean_integrated\" ## identifier of the [CII] data file\n",
    "name_8m = \"_Spitzer_IRAC_8_20_8\" ## identifier of the 8 micron data file\n",
    "plot_path = \"../plots/CII_correlations/\"\n",
    "\n",
    "list_regions = [ ## list of the regions to be studied\n",
    "    \"CYGNUSX\",\n",
    "    \"M16\",\n",
    "    \"M17\",\n",
    "    \"NGC7538\",\n",
    "    \"RCW36\",\n",
    "    \"RCW49\",\n",
    "    \"RCW79\",\n",
    "    \"RCW120\",\n",
    "    \"W40\",\n",
    "    \"ORIONA\"\n",
    "]\n",
    "\n",
    "## Spitzer 8 micron bandwidth\n",
    "bandwidth_8micron = 1.58e13 ## Hz\n",
    "conv_OrionA = 2.9*4.8e-5*0.2021/10.4*0.74\n",
    "\n",
    "## minimal intensity for the [CII] data\n",
    "min_cut_CII = 20.\n",
    "\n",
    "## [CII] convert K km/s -> erg/s/cm2/sr\n",
    "conv_CII = 7.0354e-6\n",
    "\n",
    "## number of datapoints to be considered to fit a powerlaw exponent\n",
    "num_data_points = [500, 1000]\n",
    "\n",
    "####################"
   ]
  },
  {
   "cell_type": "code",
   "execution_count": null,
   "id": "98a729c9-1b36-4d44-922e-b4129d113e40",
   "metadata": {},
   "outputs": [],
   "source": []
  },
  {
   "cell_type": "code",
   "execution_count": null,
   "id": "51af02eb-7655-4a52-ae45-94347b16acf6",
   "metadata": {},
   "outputs": [],
   "source": []
  },
  {
   "cell_type": "code",
   "execution_count": null,
   "id": "c6d2ba53-62c7-4772-9db5-637cb37fa7c0",
   "metadata": {},
   "outputs": [],
   "source": []
  },
  {
   "cell_type": "code",
   "execution_count": null,
   "id": "462d2419-f25e-4091-ac7e-312b1c71a0ed",
   "metadata": {},
   "outputs": [],
   "source": []
  },
  {
   "cell_type": "code",
   "execution_count": null,
   "id": "d1e8fd91-0a09-463b-ab5f-d8c259ccbe8e",
   "metadata": {},
   "outputs": [],
   "source": []
  }
 ],
 "metadata": {
  "kernelspec": {
   "display_name": "Python 3 (ipykernel)",
   "language": "python",
   "name": "python3"
  },
  "language_info": {
   "codemirror_mode": {
    "name": "ipython",
    "version": 3
   },
   "file_extension": ".py",
   "mimetype": "text/x-python",
   "name": "python",
   "nbconvert_exporter": "python",
   "pygments_lexer": "ipython3",
   "version": "3.10.9"
  }
 },
 "nbformat": 4,
 "nbformat_minor": 5
}
