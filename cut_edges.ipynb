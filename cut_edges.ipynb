{
 "cells": [
  {
   "cell_type": "code",
   "execution_count": 1,
   "id": "384eab9b-1ec9-4068-8640-04b3bb6b4fe9",
   "metadata": {},
   "outputs": [],
   "source": [
    "import numpy as np\n",
    "import astropy.io.fits as pyfits"
   ]
  },
  {
   "cell_type": "code",
   "execution_count": 2,
   "id": "262d4876-758a-4bc1-a288-ed528c38fa02",
   "metadata": {},
   "outputs": [],
   "source": [
    "#### User input ####\n",
    "\n",
    "## path to the data of interest\n",
    "region_name = \"RCW79\"\n",
    "data_path = \"../data_CIIcorr/data_FEEDBACK/{region}/\".format(region = region_name)\n",
    "\n",
    "## first 5: Herschel, then 5: Spitzer, last: upGREAT file\n",
    "#name_list = [\"Herschel_PACS_160_36_15\", \n",
    "#             \"Herschel_PACS_70_36_15\",\n",
    "#             \"Herschel_SPIRE_250_36_15\",\n",
    "#             \"Herschel_SPIRE_350_36_15\",\n",
    "#             \"Herschel_SPIRE_500_36_15\",\n",
    "#             \"Spitzer_IRAC_3p6_36_15\",\n",
    "#             \"Spitzer_IRAC_4p5_36_15\",\n",
    "#             \"Spitzer_IRAC_5p8_36_15\",\n",
    "#             \"Spitzer_IRAC_8_36_15\",\n",
    "#             \"upGREAT_CII_36_15_integrated\"\n",
    "#            ]\n",
    "\n",
    "## for the 100 micron data\n",
    "name_list = [\"Herschel_PACS_100_36_15\"]"
   ]
  },
  {
   "cell_type": "code",
   "execution_count": 3,
   "id": "4c361918-e297-4af8-b234-410138cdabc4",
   "metadata": {},
   "outputs": [],
   "source": [
    "def check_edge(row, col, data, val, edge = 3):\n",
    "    ## First: check if it's near the edge of the map\n",
    "    cond1 = (row <= edge) or (row >= len(data)-edge) or (col <= edge) or (col >= len(data[0])-edge)\n",
    "    if cond1:\n",
    "        return np.nan\n",
    "    \n",
    "    ## Check if no nan value exists nearby\n",
    "    for x in range(1, edge+1):\n",
    "        for y in range(1, edge+1):\n",
    "            cond2 = (np.isnan(data[row-x][col-y]) or np.isnan(data[row-x][col+y])\n",
    "                    or np.isnan(data[row+x][col-y]) or np.isnan(data[row+x][col+y]))\n",
    "            if cond2:\n",
    "                return np.nan\n",
    "    \n",
    "    return val"
   ]
  },
  {
   "cell_type": "code",
   "execution_count": 4,
   "id": "c7512ced-555e-49be-b5e9-3efcef700e37",
   "metadata": {},
   "outputs": [
    {
     "name": "stdout",
     "output_type": "stream",
     "text": [
      "RCW79_Herschel_PACS_100_36_15.fits\n"
     ]
    }
   ],
   "source": [
    "## loop over all files\n",
    "for name in name_list:\n",
    "    print(\"{reg}_{f}.fits\".format(reg = region_name, f = name))\n",
    "    ## get the data\n",
    "    hdu = pyfits.open(\"{p}{reg}_{f}.fits\".format(p = data_path, reg = region_name, f = name))\n",
    "    data = hdu[0].data\n",
    "    \n",
    "    ## create the new output data\n",
    "    new_data = np.copy(data)\n",
    "    \n",
    "    ## run through the data\n",
    "    for row in range(0, len(data)):\n",
    "        for col in range(0, len(data[0])):\n",
    "            if(~np.isnan(data[row][col])):\n",
    "                new_data[row][col] = check_edge(row, col, data, data[row][col])\n",
    "    \n",
    "    ## save the new fits file\n",
    "    new_hdu = pyfits.PrimaryHDU(new_data, hdu[0].header)\n",
    "    new_hdu.writeto(\"{p}{reg}_{f}_noEdge.fits\".format(p = data_path, reg = region_name, f = name), overwrite = True)"
   ]
  },
  {
   "cell_type": "code",
   "execution_count": null,
   "id": "c22c7d8f-2bf0-4901-820d-ed59a8df0c0e",
   "metadata": {},
   "outputs": [],
   "source": []
  },
  {
   "cell_type": "code",
   "execution_count": null,
   "id": "622cf0cb-4ea6-457e-af7d-a5e790715aa4",
   "metadata": {},
   "outputs": [],
   "source": []
  }
 ],
 "metadata": {
  "kernelspec": {
   "display_name": "Python 3 (ipykernel)",
   "language": "python",
   "name": "python3"
  },
  "language_info": {
   "codemirror_mode": {
    "name": "ipython",
    "version": 3
   },
   "file_extension": ".py",
   "mimetype": "text/x-python",
   "name": "python",
   "nbconvert_exporter": "python",
   "pygments_lexer": "ipython3",
   "version": "3.11.4"
  }
 },
 "nbformat": 4,
 "nbformat_minor": 5
}
