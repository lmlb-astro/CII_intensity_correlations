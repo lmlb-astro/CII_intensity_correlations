{
 "cells": [
  {
   "cell_type": "markdown",
   "metadata": {},
   "source": [
    "# Data pipeline for uniform FEEDBACK - Herschel - Spitzer data set\n",
    "- Works with data from Nextcloud repository\n",
    "- Objective: get all Herschel and Spitzer data with a uniform resolution, grid and file nomenclature -set by the FEEDBACK [CII] data- for easy analysis"
   ]
  },
  {
   "cell_type": "code",
   "execution_count": 1,
   "metadata": {},
   "outputs": [],
   "source": [
    "import numpy as np\n",
    "import astropy.io.fits as pyfits\n",
    "import astropy.wcs as wcs\n",
    "\n",
    "from reproject import reproject_interp\n",
    "from scipy.ndimage import gaussian_filter\n",
    "\n",
    "import os\n",
    "from os import listdir\n",
    "from os.path import isfile, join\n",
    "import time"
   ]
  },
  {
   "cell_type": "code",
   "execution_count": 2,
   "metadata": {},
   "outputs": [],
   "source": [
    "#### User input ####\n",
    "## region\n",
    "region_name = \"M16\"\n",
    "path_name = \"../data_FEEDBACK/original/{region}/\".format(region = region_name) ## directory where to get the original data\n",
    "path_intermediate = \"../data_FEEDBACK/intermediate/\" ## directory where to store intermediate results of the processing\n",
    "path_final = \"../data_FEEDBACK/{region}/\".format(region = region_name) ## directory where to get the final data products will be stored\n",
    "\n",
    "## Native resolution of Spitzer and Herschel data\n",
    "native_res_list = [10.7, 5.6, 17.6, 23.9, 35.2, 1.7, 1.77, 1.88, 1.98] ## first 5: Herschel, last five: Spitzer\n",
    "name_info_list = [\"Herschel_PACS_160\",  ## first 5: Herschel, last five: Spitzer\n",
    "             \"Herschel_PACS_70\",\n",
    "             \"Herschel_SPIRE_250\",\n",
    "             \"Herschel_SPIRE_350\",\n",
    "             \"Herschel_SPIRE_500\",\n",
    "             \"Spitzer_IRAC_3p6\",\n",
    "             \"Spitzer_IRAC_4p5\",\n",
    "             \"Spitzer_IRAC_5p8\",\n",
    "             \"Spitzer_IRAC_8\",\n",
    "            ]\n",
    "\n",
    "\n",
    "## Target resolution of the final data\n",
    "target_res = 20. ## arcsec\n",
    "#smoothRes = 45. ## arcsec (preparation for GUSTO)\n",
    "\n",
    "########################"
   ]
  },
  {
   "cell_type": "code",
   "execution_count": 3,
   "metadata": {},
   "outputs": [
    {
     "name": "stdout",
     "output_type": "stream",
     "text": [
      "The assumed native resolution = 10.7, for file M16_Herschel_PACS_160_res10p7_grid2p85_large_centered.fits \n",
      "\n",
      "The assumed native resolution = 5.6, for file M16_Herschel_PACS_70_res5p6_grid1p4_large_centered.fits \n",
      "\n",
      "The assumed native resolution = 17.6, for file M16_Herschel_SPIRE_250_res17p6_grid6_large_centered.fits \n",
      "\n",
      "The assumed native resolution = 23.9, for file M16_Herschel_SPIRE_350_res23p9_grid10_large_centered.fits \n",
      "\n",
      "The assumed native resolution = 35.2, for file M16_Herschel_SPIRE_500_res35p2_grid14_large_centered.fits \n",
      "\n",
      "The assumed native resolution = 1.7, for file M16_Spitzer_IRAC_3p6_res1p7_grid1p2_large_centered.fits \n",
      "\n",
      "The assumed native resolution = 1.77, for file M16_Spitzer_IRAC_4p5_res1p77_grid1p2_large_centered.fits \n",
      "\n",
      "The assumed native resolution = 1.88, for file M16_Spitzer_IRAC_5p8_res1p88_grid1p2_large_centered.fits \n",
      "\n",
      "The assumed native resolution = 1.98, for file M16_Spitzer_IRAC_8_res1p98_grid1p2_large_centered.fits \n",
      "\n"
     ]
    }
   ],
   "source": [
    "## Collect the Herschel and Spitzer data\n",
    "file_names = [f for f in listdir(path_name) if isfile(join(path_name, f))]\n",
    "\n",
    "## sort the file names and print names and resolution for verification\n",
    "file_names = sorted(file_names)\n",
    "for i, name in enumerate(file_names):\n",
    "    print(\"The assumed native resolution = {res}, for file {name} \\n\".format(res = native_res_list[i], name = name))"
   ]
  },
  {
   "cell_type": "markdown",
   "metadata": {},
   "source": [
    "### End of what should be verified when running the script"
   ]
  },
  {
   "cell_type": "code",
   "execution_count": 4,
   "metadata": {},
   "outputs": [
    {
     "name": "stdout",
     "output_type": "stream",
     "text": [
      "Filename: ../data_FEEDBACK/original/CII_maps/M16_CII_final_20_8_0p5_clean_integrated.fits\n",
      "No.    Name      Ver    Type      Cards   Dimensions   Format\n",
      "  0  PRIMARY       1 PrimaryHDU      36   (295, 283)   float32   \n"
     ]
    },
    {
     "name": "stderr",
     "output_type": "stream",
     "text": [
      "WARNING: FITSFixedWarning: 'celfix' made the change 'Success'. [astropy.wcs.wcs]\n"
     ]
    }
   ],
   "source": [
    "## open the FEEDBACK [CII] fits file\n",
    "hdu = pyfits.open('../data_FEEDBACK/original/CII_maps/{region}_CII_final_20_8_0p5_clean_integrated.fits'.format(region = region_name))\n",
    "hdu.info()\n",
    "dataCII = hdu[0].data\n",
    "headerCII = hdu[0].header\n",
    "wCII = wcs.WCS(headerCII)"
   ]
  },
  {
   "cell_type": "markdown",
   "metadata": {},
   "source": [
    "#### Functions to be called in the script"
   ]
  },
  {
   "cell_type": "code",
   "execution_count": 5,
   "metadata": {},
   "outputs": [],
   "source": [
    "def get_data_header(path, file_name):\n",
    "    hdu = pyfits.open(path + file_name)\n",
    "    hdu.info()\n",
    "    return hdu[0].data, hdu[0].header"
   ]
  },
  {
   "cell_type": "code",
   "execution_count": 6,
   "metadata": {},
   "outputs": [],
   "source": [
    "def smooth_data(data, sigma_conv):\n",
    "    V = data.copy()\n",
    "    V[np.isnan(data)] = 0\n",
    "    VV = gaussian_filter(V, sigma=sigma_conv)\n",
    "    \n",
    "    W = 0*data.copy() + 1\n",
    "    W[np.isnan(data)] = 0\n",
    "    WW = gaussian_filter(W,sigma=sigma_conv)\n",
    "\n",
    "    return VV/WW"
   ]
  },
  {
   "cell_type": "markdown",
   "metadata": {},
   "source": [
    "#### End of function definitions"
   ]
  },
  {
   "cell_type": "code",
   "execution_count": 7,
   "metadata": {},
   "outputs": [
    {
     "name": "stdout",
     "output_type": "stream",
     "text": [
      "Filename: ../data_FEEDBACK/original/M16/M16_Herschel_PACS_160_res10p7_grid2p85_large_centered.fits\n",
      "No.    Name      Ver    Type      Cards   Dimensions   Format\n",
      "  0  PRIMARY       1 PrimaryHDU      34   (1058, 1058)   float32   \n",
      "Smoothing the data of M16_Herschel_PACS_160_res10p7_grid2p85_large_centered.fits with an assumed native resolution 10.7\n",
      " -> Done in a total run time of 0.12635588645935059 seconds \n",
      "\n",
      "Starting the regridding on M16_Herschel_PACS_160_res10p7_grid2p85_large_centered.fits\n",
      " -> Done in a total run time of 0.11711382865905762 seconds \n",
      "\n",
      " \n",
      "Filename: ../data_FEEDBACK/original/M16/M16_Herschel_PACS_70_res5p6_grid1p4_large_centered.fits\n",
      "No.    Name      Ver    Type      Cards   Dimensions   Format\n",
      "  0  PRIMARY       1 PrimaryHDU      34   (2156, 2156)   float32   \n",
      "Smoothing the data of M16_Herschel_PACS_70_res5p6_grid1p4_large_centered.fits with an assumed native resolution 5.6\n",
      " -> Done in a total run time of 0.6045899391174316 seconds \n",
      "\n",
      "Starting the regridding on M16_Herschel_PACS_70_res5p6_grid1p4_large_centered.fits\n",
      " -> Done in a total run time of 0.15339899063110352 seconds \n",
      "\n",
      " \n",
      "Filename: ../data_FEEDBACK/original/M16/M16_Herschel_SPIRE_250_res17p6_grid6_large_centered.fits\n",
      "No.    Name      Ver    Type      Cards   Dimensions   Format\n",
      "  0  PRIMARY       1 PrimaryHDU      30   (671, 671)   float32   \n",
      "Smoothing the data of M16_Herschel_SPIRE_250_res17p6_grid6_large_centered.fits with an assumed native resolution 17.6\n",
      " -> Done in a total run time of 0.04289817810058594 seconds \n",
      "\n",
      "Starting the regridding on M16_Herschel_SPIRE_250_res17p6_grid6_large_centered.fits\n",
      " -> Done in a total run time of 0.10384106636047363 seconds \n",
      "\n",
      " \n",
      "Filename: ../data_FEEDBACK/original/M16/M16_Herschel_SPIRE_350_res23p9_grid10_large_centered.fits\n",
      "No.    Name      Ver    Type      Cards   Dimensions   Format\n",
      "  0  PRIMARY       1 PrimaryHDU      30   (483, 483)   float32   \n",
      "No smoothing done \n",
      "\n",
      "Starting the regridding on M16_Herschel_SPIRE_350_res23p9_grid10_large_centered.fits\n",
      " -> Done in a total run time of 0.09435415267944336 seconds \n",
      "\n",
      " \n",
      "Filename: ../data_FEEDBACK/original/M16/M16_Herschel_SPIRE_500_res35p2_grid14_large_centered.fits\n",
      "No.    Name      Ver    Type      Cards   Dimensions   Format\n",
      "  0  PRIMARY       1 PrimaryHDU      30   (335, 335)   float32   \n",
      "No smoothing done \n",
      "\n",
      "Starting the regridding on M16_Herschel_SPIRE_500_res35p2_grid14_large_centered.fits\n",
      " -> Done in a total run time of 0.09289026260375977 seconds \n",
      "\n",
      " \n",
      "Filename: ../data_FEEDBACK/original/M16/M16_Spitzer_IRAC_3p6_res1p7_grid1p2_large_centered.fits\n",
      "No.    Name      Ver    Type      Cards   Dimensions   Format\n",
      "  0  PRIMARY       1 PrimaryHDU     111   (2520, 2516)   float64   \n",
      "Smoothing the data of M16_Spitzer_IRAC_3p6_res1p7_grid1p2_large_centered.fits with an assumed native resolution 1.7\n",
      " -> Done in a total run time of 1.0298738479614258 seconds \n",
      "\n",
      "Starting the regridding on M16_Spitzer_IRAC_3p6_res1p7_grid1p2_large_centered.fits\n",
      " -> Done in a total run time of 0.1541588306427002 seconds \n",
      "\n",
      " \n",
      "Filename: ../data_FEEDBACK/original/M16/M16_Spitzer_IRAC_4p5_res1p77_grid1p2_large_centered.fits\n",
      "No.    Name      Ver    Type      Cards   Dimensions   Format\n",
      "  0  PRIMARY       1 PrimaryHDU     109   (2520, 2517)   float64   \n"
     ]
    },
    {
     "name": "stderr",
     "output_type": "stream",
     "text": [
      "<ipython-input-6-1a59901ea807>:10: RuntimeWarning: invalid value encountered in true_divide\n",
      "  return VV/WW\n"
     ]
    },
    {
     "name": "stdout",
     "output_type": "stream",
     "text": [
      "Smoothing the data of M16_Spitzer_IRAC_4p5_res1p77_grid1p2_large_centered.fits with an assumed native resolution 1.77\n",
      " -> Done in a total run time of 1.0478918552398682 seconds \n",
      "\n",
      "Starting the regridding on M16_Spitzer_IRAC_4p5_res1p77_grid1p2_large_centered.fits\n",
      " -> Done in a total run time of 0.15777111053466797 seconds \n",
      "\n",
      " \n",
      "Filename: ../data_FEEDBACK/original/M16/M16_Spitzer_IRAC_5p8_res1p88_grid1p2_large_centered.fits\n",
      "No.    Name      Ver    Type      Cards   Dimensions   Format\n",
      "  0  PRIMARY       1 PrimaryHDU     111   (2520, 2516)   float64   \n",
      "Smoothing the data of M16_Spitzer_IRAC_5p8_res1p88_grid1p2_large_centered.fits with an assumed native resolution 1.88\n",
      " -> Done in a total run time of 1.047229290008545 seconds \n",
      "\n",
      "Starting the regridding on M16_Spitzer_IRAC_5p8_res1p88_grid1p2_large_centered.fits\n",
      " -> Done in a total run time of 0.16358613967895508 seconds \n",
      "\n",
      " \n",
      "Filename: ../data_FEEDBACK/original/M16/M16_Spitzer_IRAC_8_res1p98_grid1p2_large_centered.fits\n",
      "No.    Name      Ver    Type      Cards   Dimensions   Format\n",
      "  0  PRIMARY       1 PrimaryHDU     109   (2520, 2517)   float64   \n",
      "Smoothing the data of M16_Spitzer_IRAC_8_res1p98_grid1p2_large_centered.fits with an assumed native resolution 1.98\n",
      " -> Done in a total run time of 1.0290579795837402 seconds \n",
      "\n",
      "Starting the regridding on M16_Spitzer_IRAC_8_res1p98_grid1p2_large_centered.fits\n",
      " -> Done in a total run time of 0.1634840965270996 seconds \n",
      "\n",
      " \n"
     ]
    }
   ],
   "source": [
    "## loop over all data files. First regrid and then smooth the data to the target resolution and grid\n",
    "for i, file_name in enumerate(file_names):\n",
    "    ## get the data file and header information\n",
    "    data, header = get_data_header(path_name, file_name)\n",
    "    \n",
    "    ## get the pixel size in arcseconds\n",
    "    pix_size = header[\"CDELT2\"]*3600. ## 3600 to convert from degree units to arcsecond units\n",
    "    \n",
    "    #### first smooth the data ####\n",
    "    if(native_res_list[i] < target_res):\n",
    "        start_time = time.time()\n",
    "        print(\"Smoothing the data of {file} with an assumed native resolution {res}\".format(file = file_name, res = native_res_list[i]))\n",
    "        \n",
    "        ## calculate the needed Gaussian convolution kernel in pixel size values\n",
    "        sigma_conv = np.sqrt((target_res/2.35)**2 - (native_res_list[i]/2.35)**2) / pix_size ## /2.35 FWHM -> sigma\n",
    "        \n",
    "        ## smooth the data\n",
    "        data_smooth = smooth_data(data, sigma_conv)\n",
    "        \n",
    "        ## store the smoothed data in the intermediate directory\n",
    "        new_hdu = pyfits.PrimaryHDU(data_smooth, header)\n",
    "        new_hdu.writeto(\"{path}smoothed_{file}\".format(path = path_intermediate, file = file_name), overwrite = True)\n",
    "        \n",
    "        end_time = time.time()\n",
    "        print(\" -> Done in a total run time of {time} seconds \\n\".format(time = end_time - start_time))\n",
    "    else:\n",
    "        print(\"No smoothing done \\n\")\n",
    "        new_hdu = pyfits.PrimaryHDU(data, header)\n",
    "        new_hdu.writeto(\"{path}smoothed_{file}\".format(path = path_intermediate, file = file_name), overwrite = True)\n",
    "        \n",
    "    \n",
    "    #### perform the regridding on the smoothed data ####\n",
    "    start_time = time.time()\n",
    "    print(\"Starting the regridding on {file}\".format(file = file_name))\n",
    "    \n",
    "    ## open HDU to perform regridding on\n",
    "    hdu = pyfits.open(\"{path}smoothed_{file}\".format(path = path_intermediate, file = file_name))\n",
    "    \n",
    "    ## perform reprojection on the [CII] grid\n",
    "    array, footprint = reproject_interp(hdu, headerCII)\n",
    "    \n",
    "    ## prepare the header to store the regridded map\n",
    "    new_header = headerCII.copy()\n",
    "    new_header['BUNIT'] = 'MJy/sr'\n",
    "    new_header['LINE'] = name_info_list[i]\n",
    "    \n",
    "    ## save the regridded map\n",
    "    new_hdu = pyfits.PrimaryHDU(array, new_header)\n",
    "    if(os.path.exists(path_final) == False):\n",
    "        os.mkdir(path_final)\n",
    "    new_hdu.writeto(\"{path}/{region}_{info}_res{res}_grid{grid}.fits\".format(path = path_final, region = region_name, info = name_info_list[i], res = int(target_res + 0.5), grid = int(headerCII[\"CDELT2\"]*3600. + 0.5)))\n",
    "    \n",
    "    end_time = time.time()\n",
    "    print(\" -> Done in a total run time of {time} seconds \\n\".format(time = end_time - start_time))\n",
    "    print(\" \")\n",
    "        \n",
    "    \n",
    "    "
   ]
  }
 ],
 "metadata": {
  "kernelspec": {
   "display_name": "Python 3",
   "language": "python",
   "name": "python3"
  },
  "language_info": {
   "codemirror_mode": {
    "name": "ipython",
    "version": 3
   },
   "file_extension": ".py",
   "mimetype": "text/x-python",
   "name": "python",
   "nbconvert_exporter": "python",
   "pygments_lexer": "ipython3",
   "version": "3.8.5"
  }
 },
 "nbformat": 4,
 "nbformat_minor": 4
}
